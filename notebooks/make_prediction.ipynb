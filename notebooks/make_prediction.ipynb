{
 "cells": [
  {
   "attachments": {},
   "cell_type": "markdown",
   "metadata": {},
   "source": [
    "# Make prediction using the trained model and flask app"
   ]
  },
  {
   "attachments": {},
   "cell_type": "markdown",
   "metadata": {},
   "source": [
    "In this notebook we will:\n",
    "- Define the sample input to the model."
   ]
  },
  {
   "cell_type": "code",
   "execution_count": 1,
   "metadata": {},
   "outputs": [],
   "source": [
    "import os\n",
    "\n",
    "while \"notebooks\" in os.getcwd():\n",
    "    os.chdir(\"..\")"
   ]
  },
  {
   "attachments": {},
   "cell_type": "markdown",
   "metadata": {},
   "source": [
    "## Load the data from Kaggle"
   ]
  },
  {
   "cell_type": "code",
   "execution_count": 2,
   "metadata": {},
   "outputs": [],
   "source": [
    "import requests\n",
    "import json"
   ]
  },
  {
   "cell_type": "code",
   "execution_count": 3,
   "metadata": {},
   "outputs": [],
   "source": [
    "# Define the input data\n",
    "input_data = {\n",
    "    \"V1\": -1.3598071336738,\n",
    "    \"V2\": -0.0727811733098497,\n",
    "    \"V3\": 2.53634673796914,\n",
    "    \"V4\": 1.37815522427443,\n",
    "    \"V5\": -0.338320769942518,\n",
    "    \"V6\": 0.462387777762292,\n",
    "    \"V7\": 0.239598554061257,\n",
    "    \"V8\": 0.0986979012610507,\n",
    "    \"V9\": 0.363786969611213,\n",
    "    \"V10\": 0.0907941719789316,\n",
    "    \"V11\": -0.551599533260813,\n",
    "    \"V12\": -0.617800855762348,\n",
    "    \"V13\": -0.991389847235408,\n",
    "    \"V14\": -0.311169353699879,\n",
    "    \"V15\": 1.46817697209427,\n",
    "    \"V16\": -0.470400525259478,\n",
    "    \"V17\": 0.207971241929242,\n",
    "    \"V18\": 0.0257905801985591,\n",
    "    \"V19\": 0.403992960255733,\n",
    "    \"V20\": 0.251412098239705,\n",
    "    \"V21\": -0.018306777944153,\n",
    "    \"V22\": 0.277837575558899,\n",
    "    \"V23\": -0.110473910188767,\n",
    "    \"V24\": 0.0669280749146731,\n",
    "    \"V25\": 0.128539358273528,\n",
    "    \"V26\": -0.189114843888824,\n",
    "    \"V27\": 0.133558376740387,\n",
    "    \"V28\": -0.0210530534538215,\n",
    "    \"Amount\": 149.62\n",
    "}"
   ]
  },
  {
   "cell_type": "code",
   "execution_count": 4,
   "metadata": {},
   "outputs": [],
   "source": [
    "data = json.dumps(input_data)\n",
    "# Set the request headers\n",
    "headers = {'Content-Type': 'application/json'}\n",
    "# Send the POST request to the prediction route\n",
    "response = requests.post('http://127.0.0.1:5000/predict', data=data, headers=headers)"
   ]
  },
  {
   "cell_type": "code",
   "execution_count": 5,
   "metadata": {},
   "outputs": [
    {
     "name": "stdout",
     "output_type": "stream",
     "text": [
      "Predictions: [0]\n"
     ]
    }
   ],
   "source": [
    "try:\n",
    "    # Get the predictions from the response\n",
    "    predictions = response.json()['predictions']\n",
    "    # Print the predictions\n",
    "    print(\"Predictions:\", predictions)\n",
    "except json.decoder.JSONDecodeError:\n",
    "    print(\"Failed to parse JSON response.\")\n",
    "    print(\"Response content:\", response.content)"
   ]
  },
  {
   "cell_type": "code",
   "execution_count": null,
   "metadata": {},
   "outputs": [],
   "source": []
  }
 ],
 "metadata": {
  "kernelspec": {
   "display_name": ".venv",
   "language": "python",
   "name": "python3"
  },
  "language_info": {
   "codemirror_mode": {
    "name": "ipython",
    "version": 3
   },
   "file_extension": ".py",
   "mimetype": "text/x-python",
   "name": "python",
   "nbconvert_exporter": "python",
   "pygments_lexer": "ipython3",
   "version": "3.10.12"
  },
  "orig_nbformat": 4
 },
 "nbformat": 4,
 "nbformat_minor": 2
}
